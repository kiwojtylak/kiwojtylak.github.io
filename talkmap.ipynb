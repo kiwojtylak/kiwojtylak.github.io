{
 "cells": [
  {
   "cell_type": "markdown",
   "metadata": {},
   "source": [
    "# Leaflet cluster map of talk locations\n",
    "\n",
    "Run this from the _talks/ directory, which contains .md files of all your talks. This scrapes the location YAML field from each .md file, geolocates it with geopy/Nominatim, and uses the getorg library to output data, HTML, and Javascript for a standalone cluster map."
   ]
  },
  {
   "cell_type": "code",
   "execution_count": 2,
   "metadata": {
    "collapsed": false,
    "ExecuteTime": {
     "end_time": "2023-12-14T13:29:28.880200Z",
     "start_time": "2023-12-14T13:29:26.712407Z"
    }
   },
   "outputs": [
    {
     "name": "stdout",
     "output_type": "stream",
     "text": [
      "\u001B[33mWARNING: Skipping /opt/homebrew/lib/python3.11/site-packages/filelock-3.13.1.dist-info due to invalid metadata entry 'name'\u001B[0m\u001B[33m\r\n",
      "\u001B[0m\u001B[33mWARNING: Skipping /opt/homebrew/lib/python3.11/site-packages/filelock-3.13.1.dist-info due to invalid metadata entry 'name'\u001B[0m\u001B[33m\r\n",
      "\u001B[0mRequirement already satisfied: getorg in /opt/homebrew/lib/python3.11/site-packages (0.3.1)\r\n",
      "Requirement already satisfied: geopy in /opt/homebrew/lib/python3.11/site-packages (from getorg) (2.4.1)\r\n",
      "Requirement already satisfied: pygithub in /opt/homebrew/lib/python3.11/site-packages (from getorg) (2.1.1)\r\n",
      "Requirement already satisfied: retrying in /opt/homebrew/lib/python3.11/site-packages (from getorg) (1.3.4)\r\n",
      "Requirement already satisfied: geographiclib<3,>=1.52 in /opt/homebrew/lib/python3.11/site-packages (from geopy->getorg) (2.0)\r\n",
      "Requirement already satisfied: pynacl>=1.4.0 in /opt/homebrew/lib/python3.11/site-packages (from pygithub->getorg) (1.5.0)\r\n",
      "Requirement already satisfied: python-dateutil in /opt/homebrew/lib/python3.11/site-packages (from pygithub->getorg) (2.8.2)\r\n",
      "Requirement already satisfied: requests>=2.14.0 in /opt/homebrew/lib/python3.11/site-packages (from pygithub->getorg) (2.31.0)\r\n",
      "Requirement already satisfied: pyjwt>=2.4.0 in /opt/homebrew/lib/python3.11/site-packages (from pyjwt[crypto]>=2.4.0->pygithub->getorg) (2.8.0)\r\n",
      "Requirement already satisfied: typing-extensions>=4.0.0 in /opt/homebrew/lib/python3.11/site-packages (from pygithub->getorg) (4.7.1)\r\n",
      "Requirement already satisfied: urllib3>=1.26.0 in /opt/homebrew/lib/python3.11/site-packages (from pygithub->getorg) (1.26.16)\r\n",
      "Requirement already satisfied: Deprecated in /opt/homebrew/lib/python3.11/site-packages (from pygithub->getorg) (1.2.14)\r\n",
      "Requirement already satisfied: six>=1.7.0 in /opt/homebrew/lib/python3.11/site-packages (from retrying->getorg) (1.16.0)\r\n",
      "Requirement already satisfied: cryptography>=3.4.0 in /opt/homebrew/lib/python3.11/site-packages (from pyjwt[crypto]>=2.4.0->pygithub->getorg) (41.0.7)\r\n",
      "Requirement already satisfied: cffi>=1.4.1 in /opt/homebrew/lib/python3.11/site-packages (from pynacl>=1.4.0->pygithub->getorg) (1.16.0)\r\n",
      "Requirement already satisfied: charset-normalizer<4,>=2 in /opt/homebrew/lib/python3.11/site-packages (from requests>=2.14.0->pygithub->getorg) (3.1.0)\r\n",
      "Requirement already satisfied: idna<4,>=2.5 in /opt/homebrew/lib/python3.11/site-packages (from requests>=2.14.0->pygithub->getorg) (3.4)\r\n",
      "Requirement already satisfied: certifi>=2017.4.17 in /opt/homebrew/lib/python3.11/site-packages (from requests>=2.14.0->pygithub->getorg) (2023.5.7)\r\n",
      "Requirement already satisfied: wrapt<2,>=1.10 in /opt/homebrew/lib/python3.11/site-packages (from Deprecated->pygithub->getorg) (1.15.0)\r\n",
      "Requirement already satisfied: pycparser in /opt/homebrew/lib/python3.11/site-packages (from cffi>=1.4.1->pynacl>=1.4.0->pygithub->getorg) (2.21)\r\n",
      "\u001B[33mWARNING: Skipping /opt/homebrew/lib/python3.11/site-packages/filelock-3.13.1.dist-info due to invalid metadata entry 'name'\u001B[0m\u001B[33m\r\n",
      "\u001B[0m\u001B[33mWARNING: Skipping /opt/homebrew/lib/python3.11/site-packages/filelock-3.13.1.dist-info due to invalid metadata entry 'name'\u001B[0m\u001B[33m\r\n",
      "\u001B[0m"
     ]
    }
   ],
   "source": [
    "!pip install getorg --upgrade\n",
    "import glob\n",
    "import getorg\n",
    "from geopy import Nominatim"
   ]
  },
  {
   "cell_type": "code",
   "execution_count": 3,
   "metadata": {
    "collapsed": false,
    "ExecuteTime": {
     "end_time": "2023-12-14T13:29:35.553328Z",
     "start_time": "2023-12-14T13:29:35.541267Z"
    }
   },
   "outputs": [],
   "source": [
    "g = glob.glob(\"*.md\")"
   ]
  },
  {
   "cell_type": "code",
   "execution_count": 8,
   "metadata": {
    "collapsed": true,
    "ExecuteTime": {
     "end_time": "2023-12-14T13:30:51.594018Z",
     "start_time": "2023-12-14T13:30:51.569393Z"
    }
   },
   "outputs": [],
   "source": [
    "geocoder = Nominatim(user_agent=\"kiwojtylak.github.io\")\n",
    "location_dict = {}\n",
    "location = \"\"\n",
    "permalink = \"\"\n",
    "title = \"\""
   ]
  },
  {
   "cell_type": "code",
   "execution_count": 9,
   "metadata": {
    "collapsed": false,
    "ExecuteTime": {
     "end_time": "2023-12-14T13:30:55.533652Z",
     "start_time": "2023-12-14T13:30:54.358791Z"
    }
   },
   "outputs": [
    {
     "name": "stdout",
     "output_type": "stream",
     "text": [
      " \n",
      " None\n",
      " \n",
      " None\n",
      " \n",
      " None\n"
     ]
    }
   ],
   "source": [
    "\n",
    "for file in g:\n",
    "    with open(file, 'r') as f:\n",
    "        lines = f.read()\n",
    "        if lines.find('location: \"') > 1:\n",
    "            loc_start = lines.find('location: \"') + 11\n",
    "            lines_trim = lines[loc_start:]\n",
    "            loc_end = lines_trim.find('\"')\n",
    "            location = lines_trim[:loc_end]\n",
    "                            \n",
    "           \n",
    "        location_dict[location] = geocoder.geocode(location)\n",
    "        print(location, \"\\n\", location_dict[location])\n"
   ]
  },
  {
   "cell_type": "code",
   "execution_count": 10,
   "metadata": {
    "collapsed": false,
    "ExecuteTime": {
     "end_time": "2023-12-14T13:31:00.930554Z",
     "start_time": "2023-12-14T13:31:00.910626Z"
    }
   },
   "outputs": [
    {
     "data": {
      "text/plain": "'Written map to ../talkmap/'"
     },
     "execution_count": 10,
     "metadata": {},
     "output_type": "execute_result"
    }
   ],
   "source": [
    "m = getorg.orgmap.create_map_obj()\n",
    "getorg.orgmap.output_html_cluster_map(location_dict, folder_name=\"../talkmap\", hashed_usernames=False)"
   ]
  }
 ],
 "metadata": {
  "anaconda-cloud": {},
  "kernelspec": {
   "name": "python3",
   "language": "python",
   "display_name": "Python 3 (ipykernel)"
  },
  "language_info": {
   "codemirror_mode": {
    "name": "ipython",
    "version": 3
   },
   "file_extension": ".py",
   "mimetype": "text/x-python",
   "name": "python",
   "nbconvert_exporter": "python",
   "pygments_lexer": "ipython3",
   "version": "3.5.2"
  }
 },
 "nbformat": 4,
 "nbformat_minor": 0
}
